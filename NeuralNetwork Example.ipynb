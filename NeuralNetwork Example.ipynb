{
 "cells": [
  {
   "cell_type": "code",
   "execution_count": 26,
   "metadata": {},
   "outputs": [],
   "source": [
    "import numpy as np\n",
    "\n",
    "class NeuralNetwork:\n",
    "            \n",
    "    def sigmoid(self,x):\n",
    "        return 1.0/(1.0 + np.exp(-x))\n",
    "\n",
    "    def sigmoid_der(self, x):\n",
    "        return x*(1.0 - x)\n",
    "    \n",
    "    def __init__(self):\n",
    "        self.w1 = np.random.random((3,2)) * 0.001\n",
    "        self.w2 = np.random.random((1,3)) * 0.001\n",
    "        \n",
    "        self.b1 = np.zeros((3,1))\n",
    "        self.b2 = np.zeros((1,1))\n",
    "        \n",
    "    def predict(self, x):\n",
    "        x = x.reshape(2,1)\n",
    "        self.dot_val1 = np.dot(self.w1, x) + self.b1\n",
    "        self.a1 = self.sigmoid(self.dot_val1)\n",
    "        self.dot_val2 = np.dot(self.w2, self.a1) + self.b2\n",
    "        self.a2 = self.sigmoid(self.dot_val2)\n",
    "        return self.a2\n",
    "        \n",
    "    def backward_prop(self, y, lr):\n",
    "        dz2 = y - self.a2\n",
    "        dw2 = 1/5 * dz2 * self.a2\n",
    "        self.w2 -= lr * dw2 \n",
    "        db2 = 1/5 * np.sum(dz2, axis=1, keepdims=True)\n",
    "        self.b2 -= lr * db2\n",
    "        \n",
    "        dz1 = dw2.T * dz2 *self.sigmoid_der(self.dot_val1)\n",
    "        dw1 = 1/5 * dz1 * self.a2.T\n",
    "        self.w1 -= lr * dw1\n",
    "        db1 = 1/5 * np.sum(dz1, axis=1, keepdims=True)\n",
    "        self.b1 -= lr * db1  "
   ]
  },
  {
   "cell_type": "code",
   "execution_count": 31,
   "metadata": {},
   "outputs": [
    {
     "name": "stdout",
     "output_type": "stream",
     "text": [
      "[[ 0.5001271]]\n",
      "[[ 0.11941503]]\n"
     ]
    }
   ],
   "source": [
    "# Input values\n",
    "X = np.array([[1,1],[1,0],[0,0],[0,1]])\n",
    "# Desired Output Values\n",
    "Y = np.array([[0], [1], [0], [1]])\n",
    "nn = NeuralNetwork()\n",
    "print(nn.predict(np.array([1,1])))\n",
    "for i in range(100):\n",
    "    pred = nn.predict(np.array([1,1]))\n",
    "    nn.backward_prop(1, 0.1)\n",
    "\n",
    "print(nn.predict(np.array([1,1])))"
   ]
  },
  {
   "cell_type": "code",
   "execution_count": null,
   "metadata": {},
   "outputs": [],
   "source": []
  }
 ],
 "metadata": {
  "kernelspec": {
   "display_name": "Python 3",
   "language": "python",
   "name": "python3"
  },
  "language_info": {
   "codemirror_mode": {
    "name": "ipython",
    "version": 3
   },
   "file_extension": ".py",
   "mimetype": "text/x-python",
   "name": "python",
   "nbconvert_exporter": "python",
   "pygments_lexer": "ipython3",
   "version": "3.6.5"
  }
 },
 "nbformat": 4,
 "nbformat_minor": 2
}
