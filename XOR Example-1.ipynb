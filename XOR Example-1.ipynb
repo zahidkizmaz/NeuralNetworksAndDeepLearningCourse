{
 "cells": [
  {
   "cell_type": "code",
   "execution_count": 104,
   "metadata": {},
   "outputs": [],
   "source": [
    "import numpy as np\n",
    "\n",
    "# XOR Example with 2 Layers NN.\n",
    "\n",
    "# Input values\n",
    "X = np.array([[1,1],[1,0],[0,0],[0,1]])\n",
    "# Desired Output Values\n",
    "Y = np.array([[0], [1], [0], [1]])\n",
    "\n",
    "class NeuralNetworks:\n",
    "    def __init__(self, inputs):\n",
    "        self.inputs = inputs\n",
    "        self.l = len(self.inputs)\n",
    "        self.li = len(inputs[0])\n",
    "        \n",
    "        self.wi = np.random.random((self.li, self.l))\n",
    "        self.wh = np.random.random((self.l, 1))\n",
    "        \n",
    "    def sigmoid(self, x):\n",
    "        return 1.0/(1.0 + np.exp(-x))\n",
    "\n",
    "    def sigmoid_der(self, x):\n",
    "        return x*(1.0 - x)\n",
    "        \n",
    "    def predict(self, val):\n",
    "        s1 = self.sigmoid(np.dot(val, self.wi))\n",
    "        s2 = self.sigmoid(np.dot(s1, self.wh)) \n",
    "        return s2\n",
    "        \n",
    "    def train(self, inputs, outputs, iter_num):\n",
    "        for i in range(iter_num):\n",
    "            l0 = inputs\n",
    "            l1 = self.sigmoid(np.dot(l0, self.wi))\n",
    "            l2 = self.sigmoid(np.dot(l1, self.wh))\n",
    "            \n",
    "            l2_err = outputs - l2\n",
    "            l2_delta = np.multiply(l2_err, self.sigmoid_der(l2))\n",
    "            \n",
    "            l1_err = np.dot(l2_delta, self.wh.T)\n",
    "            l1_delta = np.multiply(l1_err, self.sigmoid_der(l1))\n",
    "            \n",
    "            self.wh += np.dot(l1.T, l2_delta) \n",
    "            self.wi += np.dot(l0.T, l1_delta) \n",
    "        \n"
   ]
  },
  {
   "cell_type": "code",
   "execution_count": 105,
   "metadata": {
    "scrolled": false
   },
   "outputs": [
    {
     "name": "stdout",
     "output_type": "stream",
     "text": [
      "Before training: \n",
      "[[ 0.77347859]\n",
      " [ 0.73018191]\n",
      " [ 0.69109322]\n",
      " [ 0.74391116]]\n",
      "\n",
      "After training: \n",
      "[[ 0.00469335]\n",
      " [ 0.99601937]\n",
      " [ 0.00433565]\n",
      " [ 0.99503315]]\n",
      "\n"
     ]
    }
   ],
   "source": [
    "nn = NeuralNetworks(X)\n",
    "print('Before training: \\n{}\\n'.format(nn.predict(X)))\n",
    "nn.train(X, Y, 100_000)\n",
    "print('After training: \\n{}\\n'.format(nn.predict(X)))"
   ]
  }
 ],
 "metadata": {
  "kernelspec": {
   "display_name": "Python 3",
   "language": "python",
   "name": "python3"
  },
  "language_info": {
   "codemirror_mode": {
    "name": "ipython",
    "version": 3
   },
   "file_extension": ".py",
   "mimetype": "text/x-python",
   "name": "python",
   "nbconvert_exporter": "python",
   "pygments_lexer": "ipython3",
   "version": "3.6.5"
  }
 },
 "nbformat": 4,
 "nbformat_minor": 2
}
